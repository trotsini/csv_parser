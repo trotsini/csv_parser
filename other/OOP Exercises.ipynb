{
 "cells": [
  {
   "cell_type": "markdown",
   "metadata": {},
   "source": [
    "# Object-Oriented Programming in Python"
   ]
  },
  {
   "cell_type": "markdown",
   "metadata": {},
   "source": [
    "**Classes** are collections of functions and data.  They act as an organization tool for code. Defining a class is done using the **class** keyword in Python:\n",
    "\n",
    "```python\n",
    "class Dog:\n",
    "    pass\n",
    "```\n",
    "\n",
    "If you want to attach data to the class, you can do it inside the code block.\n",
    "\n",
    "```python\n",
    "class Dog:\n",
    "    species = 'Canis lupus familiaris'\n",
    "    \n",
    ">>> Dog.species\n",
    "'Canis lupus familiaris'\n",
    "```\n",
    "\n",
    "If you want to give *specific* data to the class (perhaps each individual Dog has a name?), then you add that in the class construction function called \"__init__()':\n",
    "\n",
    "```python\n",
    "class Dog:\n",
    "    species = 'Canis lupus familiaris'\n",
    "    \n",
    "    def __init__(self, name):\n",
    "        self.name = name\n",
    "        \n",
    ">>> my_dog = Dog('Max')\n",
    ">>> my_dog.name\n",
    "'Max'\n",
    "```\n",
    "\n",
    "If you want to attach any functions to the class, you can do it with the **def** keyword inside the class code block.\n",
    "\n",
    "```python\n",
    "class Dog:\n",
    "    species = 'Canis lupus familiaris'\n",
    "    \n",
    "    def __init__(self, name):\n",
    "        self.name = name\n",
    "        \n",
    "    def speak(self):\n",
    "        print('My name is {}'.format(self.name))\n",
    "        \n",
    ">>> my_dog = Dog('Max')\n",
    ">>> my_dog.speak()\n",
    "'My name is Max'\n",
    "```\n",
    "\n",
    "If a function doesn't require any instance data (no **self** used in the function) nor any class data, then you can add the **@staticmethod** decorator to remove the need for putting \"self\" in the function definition:\n",
    "\n",
    "```python\n",
    "class Dog:\n",
    "    species = 'Canis lupus familiaris'\n",
    "    \n",
    "    def __init__(self, name):\n",
    "        self.name = name\n",
    "        \n",
    "    def speak(self):\n",
    "        print('My name is {}'.format(self.name))\n",
    "        \n",
    "    @staticmethod\n",
    "    def bark():\n",
    "        print('Woof!')\n",
    "        \n",
    ">>> my_dog = Dog('Max')\n",
    ">>> my_dog.bark()\n",
    "'Woof!'\n",
    "```\n",
    "\n",
    "Similarly, a **@classmethod** decorator exists if you only need the class attributes."
   ]
  },
  {
   "cell_type": "markdown",
   "metadata": {},
   "source": [
    "## Exercises\n",
    "Let's make a few classes in Python.\n"
   ]
  },
  {
   "cell_type": "markdown",
   "metadata": {},
   "source": [
    "**Exercise: a cardboard box**\n",
    "\n",
    "Make a Box class for shipping items.  It should have width, height, and depth attributes, and should be able to calculate its own volume (so we know how big the box is) and surface area (so we know how much cardboard is required to make it)."
   ]
  },
  {
   "cell_type": "code",
   "execution_count": 9,
   "metadata": {},
   "outputs": [],
   "source": [
    "class Box:\n",
    "    count=0\n",
    "    \n",
    "    def __init__(self,width,height,depth):\n",
    "        \n",
    "        self.width=width      #assign name of instance to name space outside of the Class\n",
    "        self.height=height\n",
    "        self.depth=depth\n",
    "        Box.count+=1\n",
    "        \n",
    "    @property          #inheritence\n",
    "    def calc_volume(self):\n",
    "        v=self.width*self.height*self.depth\n",
    "        print(v)\n",
    "    \n",
    "    @property    \n",
    "    def calc_surface(self):\n",
    "        area=2*self.width*self.height+2*self.depth*self.width+2*self.height*self.depth\n",
    "        print(area)\n",
    "        "
   ]
  },
  {
   "cell_type": "code",
   "execution_count": 11,
   "metadata": {},
   "outputs": [
    {
     "data": {
      "text/plain": [
       "5"
      ]
     },
     "execution_count": 11,
     "metadata": {},
     "output_type": "execute_result"
    }
   ],
   "source": [
    "c=Box(12,3.4,5)\n",
    "b=Box(2,12,25)\n",
    "f=Box(2,12,25)\n",
    "c.height\n",
    "c.count\n",
    "#c.calc_surface()\n",
    "\n"
   ]
  },
  {
   "cell_type": "code",
   "execution_count": null,
   "metadata": {},
   "outputs": [],
   "source": []
  },
  {
   "cell_type": "markdown",
   "metadata": {},
   "source": [
    "**Exercise: a DNA sequence**\n",
    "\n",
    "Make a class that takes a DNA sequence (a string consisting of G, C, A, and T letters) and calculates whether it is a valid sequence or not, as well as what the complimentary sequence is (the same sequence but swapping G's for C's and A's for T's)."
   ]
  },
  {
   "cell_type": "code",
   "execution_count": null,
   "metadata": {},
   "outputs": [],
   "source": [
    "strand=DNA(sequence:str)   #pseudocode\n",
    "strand.check_validity\n",
    "strand."
   ]
  },
  {
   "cell_type": "code",
   "execution_count": 52,
   "metadata": {},
   "outputs": [
    {
     "name": "stdout",
     "output_type": "stream",
     "text": [
      "True\n",
      "False\n",
      "True\n",
      "1\n",
      "2\n",
      "3\n"
     ]
    }
   ],
   "source": [
    "def generate(sequence):\n",
    "    for nt in sequence:\n",
    "        yield nt.upper() in 'GCAT'\n",
    "        \n",
    "are_good=generate('GBT')\n",
    "def print_is_good(are_good):\n",
    "    for is_good in are_good:\n",
    "        print(is_good)\n",
    "print_is_good(are_good)\n",
    "print_is_good([1,2,3])\n",
    "all(are_good)"
   ]
  },
  {
   "cell_type": "code",
   "execution_count": 66,
   "metadata": {},
   "outputs": [
    {
     "data": {
      "text/plain": [
       "['__class__',\n",
       " '__delattr__',\n",
       " '__dict__',\n",
       " '__dir__',\n",
       " '__doc__',\n",
       " '__eq__',\n",
       " '__format__',\n",
       " '__ge__',\n",
       " '__getattribute__',\n",
       " '__gt__',\n",
       " '__hash__',\n",
       " '__init__',\n",
       " '__init_subclass__',\n",
       " '__le__',\n",
       " '__lt__',\n",
       " '__module__',\n",
       " '__ne__',\n",
       " '__new__',\n",
       " '__reduce__',\n",
       " '__reduce_ex__',\n",
       " '__repr__',\n",
       " '__setattr__',\n",
       " '__sizeof__',\n",
       " '__str__',\n",
       " '__subclasshook__',\n",
       " '__weakref__',\n",
       " '_check_validity',\n",
       " 'complm',\n",
       " 'sequence']"
      ]
     },
     "execution_count": 66,
     "metadata": {},
     "output_type": "execute_result"
    }
   ],
   "source": [
    "dna=DNAs('ACT')\n",
    "dir(dna)"
   ]
  },
  {
   "cell_type": "code",
   "execution_count": 87,
   "metadata": {},
   "outputs": [
    {
     "ename": "TypeError",
     "evalue": "'DNAs' object is not callable",
     "output_type": "error",
     "traceback": [
      "\u001b[0;31m---------------------------------------------------------------------------\u001b[0m",
      "\u001b[0;31mTypeError\u001b[0m                                 Traceback (most recent call last)",
      "\u001b[0;32m<ipython-input-87-213f11f78d83>\u001b[0m in \u001b[0;36m<module>\u001b[0;34m()\u001b[0m\n\u001b[1;32m     43\u001b[0m \u001b[0;34m\u001b[0m\u001b[0m\n\u001b[1;32m     44\u001b[0m \u001b[0;34m\u001b[0m\u001b[0m\n\u001b[0;32m---> 45\u001b[0;31m \u001b[0;32massert\u001b[0m \u001b[0mDNAs\u001b[0m\u001b[0;34m(\u001b[0m\u001b[0;34m'GTC'\u001b[0m\u001b[0;34m)\u001b[0m\u001b[0;34m.\u001b[0m\u001b[0mcomplm\u001b[0m\u001b[0;34m(\u001b[0m\u001b[0;34m)\u001b[0m\u001b[0;34m==\u001b[0m \u001b[0mDNAs\u001b[0m\u001b[0;34m(\u001b[0m\u001b[0;34m'CAG'\u001b[0m\u001b[0;34m)\u001b[0m\u001b[0;34m\u001b[0m\u001b[0m\n\u001b[0m\u001b[1;32m     46\u001b[0m \u001b[0;32massert\u001b[0m \u001b[0mDNAs\u001b[0m\u001b[0;34m(\u001b[0m\u001b[0;34m'ATC'\u001b[0m\u001b[0;34m)\u001b[0m\u001b[0;34m.\u001b[0m\u001b[0mcomplm\u001b[0m\u001b[0;34m(\u001b[0m\u001b[0;34m)\u001b[0m\u001b[0;34m==\u001b[0m \u001b[0mDNAs\u001b[0m\u001b[0;34m(\u001b[0m\u001b[0;34m'TAG'\u001b[0m\u001b[0;34m)\u001b[0m\u001b[0;34m\u001b[0m\u001b[0m\n\u001b[1;32m     47\u001b[0m \u001b[0;31m#assert DNAs('ABC').complm()== 'TAG'\u001b[0m\u001b[0;34m\u001b[0m\u001b[0;34m\u001b[0m\u001b[0m\n",
      "\u001b[0;31mTypeError\u001b[0m: 'DNAs' object is not callable"
     ]
    }
   ],
   "source": [
    "complm_nt= {'A':'T','G':'C','C':'G','T':'A'}\n",
    "class DNAs:\n",
    "    def __init__(self,sequence):\n",
    "        self.sequence=sequence\n",
    "        if not self._check_validity():\n",
    "            raise ValueError('Bad sequence.Must contain only A, T, C, G')\n",
    "            \n",
    "    def __eq__(self,other):\n",
    "        return True if str(self)== str(other) else False\n",
    "    \n",
    "    def __str__(self):\n",
    "        return self.sequence\n",
    "    \n",
    "    def __repr__(self):\n",
    "        return \"DNA(sequence='{}')\".format(self.sequence)\n",
    "    \n",
    "    \n",
    "    def _check_validity(self):     #_means the func is kinda 'private'\n",
    "        are_good=(nt.upper() in 'GCAT' for nt in self.sequence) #are_good is a generator (comprehension)\n",
    "        #print(type(are_good))\n",
    "        return True if all(are_good) else False  #all() stops iterating as it encounters a False\n",
    "    \n",
    "        #for nt in sequence:\n",
    "         #   nt_is_good=nt.upper()in 'GCAT'\n",
    "          #  if not nt_is_good:\n",
    "           #     return False\n",
    "        #return True\n",
    "        #while el in 'ACGT':  WRONG! for check if arg is valid, nt belongs to allowed letters,\n",
    "        #INSTEAD ...\n",
    "    @property    \n",
    "    def complm(self):\n",
    "        return DNAs(''.join([complm_nt[nt.upper()] for nt in self.sequence]))          \n",
    "        #complm_seq = []\n",
    "        #for nt in sequence:\n",
    "            #complm_nt=complm_nt[complm_nt.upper()]\n",
    "            #complm_seq.append(complm_nt)\n",
    "        #return ''.join(complm_seq)\n",
    "                    \n",
    "try:\n",
    "    assert DNAs('ABC')\n",
    "except ValueError:\n",
    "    pass            \n",
    "        \n",
    "\n",
    "assert DNAs('GTC').complm()== DNAs('CAG')\n",
    "assert DNAs('ATC').complm()== DNAs('TAG')\n",
    "#assert DNAs('ABC').complm()== 'TAG'\n",
    "#assert DNAs('GTCTA').check_validity()== True\n",
    "#assert DNAs('gtcta').check_validity()== True\n",
    "#assert DNAs('HELLO').check_validity()== False"
   ]
  },
  {
   "cell_type": "code",
   "execution_count": 50,
   "metadata": {},
   "outputs": [
    {
     "data": {
      "text/plain": [
       "True"
      ]
     },
     "execution_count": 50,
     "metadata": {},
     "output_type": "execute_result"
    }
   ],
   "source": [
    "'G' in 'AGCT'\n"
   ]
  },
  {
   "cell_type": "code",
   "execution_count": 51,
   "metadata": {},
   "outputs": [
    {
     "data": {
      "text/plain": [
       "<bound method DNAs.complm of <__main__.DNAs object at 0x1081a8f98>>"
      ]
     },
     "execution_count": 51,
     "metadata": {},
     "output_type": "execute_result"
    }
   ],
   "source": [
    "g=DNAs('GTAT')\n",
    "g.complm\n"
   ]
  },
  {
   "cell_type": "code",
   "execution_count": 41,
   "metadata": {},
   "outputs": [
    {
     "ename": "AttributeError",
     "evalue": "'DNAs' object has no attribute 'complm_s'",
     "output_type": "error",
     "traceback": [
      "\u001b[0;31m---------------------------------------------------------------------------\u001b[0m",
      "\u001b[0;31mAttributeError\u001b[0m                            Traceback (most recent call last)",
      "\u001b[0;32m<ipython-input-41-8da2bff16f3a>\u001b[0m in \u001b[0;36m<module>\u001b[0;34m()\u001b[0m\n\u001b[0;32m----> 1\u001b[0;31m \u001b[0mg\u001b[0m\u001b[0;34m.\u001b[0m\u001b[0mcomplm_s\u001b[0m\u001b[0;34m\u001b[0m\u001b[0m\n\u001b[0m",
      "\u001b[0;31mAttributeError\u001b[0m: 'DNAs' object has no attribute 'complm_s'"
     ]
    }
   ],
   "source": [
    "g.complm_s "
   ]
  },
  {
   "cell_type": "markdown",
   "metadata": {},
   "source": [
    "**Exercise: a List**\n",
    "\n",
    "Make a class that can take a sequence and calculate the length of the sequence, return the n'th item in the sequence, and print the sequence like this: \"<Item1, Item2, Item3>\"."
   ]
  },
  {
   "cell_type": "code",
   "execution_count": 83,
   "metadata": {},
   "outputs": [
    {
     "ename": "NameError",
     "evalue": "name 'seq' is not defined",
     "output_type": "error",
     "traceback": [
      "\u001b[0;31m---------------------------------------------------------------------------\u001b[0m",
      "\u001b[0;31mNameError\u001b[0m                                 Traceback (most recent call last)",
      "\u001b[0;32m<ipython-input-83-a76bd717a914>\u001b[0m in \u001b[0;36m<module>\u001b[0;34m()\u001b[0m\n\u001b[0;32m----> 1\u001b[0;31m \u001b[0;32mclass\u001b[0m \u001b[0mList\u001b[0m\u001b[0;34m:\u001b[0m\u001b[0;34m\u001b[0m\u001b[0m\n\u001b[0m\u001b[1;32m      2\u001b[0m     \u001b[0;32mdef\u001b[0m \u001b[0m__init__\u001b[0m\u001b[0;34m(\u001b[0m\u001b[0mself\u001b[0m\u001b[0;34m,\u001b[0m\u001b[0mseq\u001b[0m\u001b[0;34m)\u001b[0m\u001b[0;34m:\u001b[0m\u001b[0;34m\u001b[0m\u001b[0m\n\u001b[1;32m      3\u001b[0m         \u001b[0mself\u001b[0m\u001b[0;34m.\u001b[0m\u001b[0mseq\u001b[0m\u001b[0;34m=\u001b[0m\u001b[0mseq\u001b[0m\u001b[0;34m\u001b[0m\u001b[0m\n\u001b[1;32m      4\u001b[0m \u001b[0;34m\u001b[0m\u001b[0m\n\u001b[1;32m      5\u001b[0m     \u001b[0;32mdef\u001b[0m \u001b[0m__str__\u001b[0m\u001b[0;34m(\u001b[0m\u001b[0mself\u001b[0m\u001b[0;34m)\u001b[0m\u001b[0;34m:\u001b[0m\u001b[0;34m\u001b[0m\u001b[0m\n",
      "\u001b[0;32m<ipython-input-83-a76bd717a914>\u001b[0m in \u001b[0;36mList\u001b[0;34m()\u001b[0m\n\u001b[1;32m     12\u001b[0m         \u001b[0;32mreturn\u001b[0m \u001b[0mself\u001b[0m\u001b[0;34m.\u001b[0m\u001b[0mseq\u001b[0m\u001b[0;34m[\u001b[0m\u001b[0mindex\u001b[0m\u001b[0;34m]\u001b[0m\u001b[0;34m\u001b[0m\u001b[0m\n\u001b[1;32m     13\u001b[0m \u001b[0;34m\u001b[0m\u001b[0m\n\u001b[0;32m---> 14\u001b[0;31m     \u001b[0mprint\u001b[0m\u001b[0;34m(\u001b[0m\u001b[0mstr\u001b[0m\u001b[0;34m(\u001b[0m\u001b[0mseq\u001b[0m\u001b[0;34m)\u001b[0m\u001b[0;34m)\u001b[0m\u001b[0;34m\u001b[0m\u001b[0m\n\u001b[0m\u001b[1;32m     15\u001b[0m \u001b[0;34m\u001b[0m\u001b[0m\n\u001b[1;32m     16\u001b[0m \u001b[0;34m\u001b[0m\u001b[0m\n",
      "\u001b[0;31mNameError\u001b[0m: name 'seq' is not defined"
     ]
    }
   ],
   "source": [
    "class List:\n",
    "    def __init__(self,seq):\n",
    "        self.seq=seq\n",
    "        \n",
    "    def __str__(self):\n",
    "        return \"<\" + \", \".join(str(el) for el in self.seq) + \">\"\n",
    "    \n",
    "    def __repr__(self):\n",
    "        return str(self)\n",
    "    \n",
    "    def __getitem__(self,index):\n",
    "        return self.seq[index]   \n",
    "    \n",
    "my_list=List([1,2,3])    \n",
    "assert str(my_list)==\"<1, 2, 3>\"\n",
    "assert my_list[1]==2\n",
    "assert my_list[1:]==[2,3]\n",
    "#assert my_list[10]"
   ]
  },
  {
   "cell_type": "code",
   "execution_count": 86,
   "metadata": {},
   "outputs": [
    {
     "data": {
      "text/plain": [
       "<1, 2, 3>"
      ]
     },
     "execution_count": 86,
     "metadata": {},
     "output_type": "execute_result"
    }
   ],
   "source": [
    "my_list"
   ]
  }
 ],
 "metadata": {
  "kernelspec": {
   "display_name": "Python 3",
   "language": "python",
   "name": "python3"
  },
  "language_info": {
   "codemirror_mode": {
    "name": "ipython",
    "version": 3
   },
   "file_extension": ".py",
   "mimetype": "text/x-python",
   "name": "python",
   "nbconvert_exporter": "python",
   "pygments_lexer": "ipython3",
   "version": "3.6.5"
  }
 },
 "nbformat": 4,
 "nbformat_minor": 2
}
